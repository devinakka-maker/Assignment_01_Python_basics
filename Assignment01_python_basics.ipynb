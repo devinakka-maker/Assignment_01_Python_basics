{
  "nbformat": 4,
  "nbformat_minor": 0,
  "metadata": {
    "colab": {
      "provenance": []
    },
    "kernelspec": {
      "name": "python3",
      "display_name": "Python 3"
    },
    "language_info": {
      "name": "python"
    }
  },
  "cells": [
    {
      "cell_type": "markdown",
      "source": [
        "1. What is Python, and why is it popular?\n",
        "- Python is High-level,interpreted programming language often used to build websites & softwares,\n",
        "   automate tools and analysis data.\n",
        "- Reasons why python became popular:\n",
        "   1. Python offers extensive collection libraries & frameworksthat simply the tasks.\n",
        "      pandas for data analysis\n",
        "      pyTorch fir creating the machine learning models.\n",
        "    2.Python has large & active user community & support.\n",
        "    3.Easy to understand.\n",
        "\n"
      ],
      "metadata": {
        "id": "6WSp7fW-di-T"
      }
    },
    {
      "cell_type": "markdown",
      "source": [
        "2. What is an interpreter in Python?\n",
        "- Interpreter is a computer program that converts the high level programming language into\n",
        "   machine level language.it is also called as translator.Interpreter executes the each line of\n",
        "   statements.Python Interpreter is written in C language, so it is called CPython.\n",
        "   CPython converts the source code into bytecode(.py) file.\n",
        "\n"
      ],
      "metadata": {
        "id": "iHMnH1Mhefv8"
      }
    },
    {
      "cell_type": "markdown",
      "source": [
        "3. What are pre-defined keywords in Python?\n",
        "- Python keywords are reserved words that has the special meaning in the language.\n",
        " keywords are case-sensitive.\n",
        " Examples: if,elif,class, for,while etc.\n",
        "\n"
      ],
      "metadata": {
        "id": "QsCSt33XfK63"
      }
    },
    {
      "cell_type": "markdown",
      "source": [
        "4. Can keywords be used as variable names?\n",
        " - No we can't use the keywords as the variable names.keywords has the special meaning, if we\n",
        "  try to use one, will throw the syntax error."
      ],
      "metadata": {
        "id": "-SRL6lEfffLQ"
      }
    },
    {
      "cell_type": "markdown",
      "source": [
        "5. What is mutability in Python?\n",
        "- Mutability in python refers to the internal state of an object can be changed or not after it is\n",
        "  created.\n"
      ],
      "metadata": {
        "id": "Gdm3zEWMfowe"
      }
    },
    {
      "cell_type": "markdown",
      "source": [
        "6. Why are lists mutable, but tuples are immutable?\n",
        "-  The difference between lists being mutable & tuples being immutable is because of their design\n",
        "  process & internal structure.\n",
        "  Lists are mutable beacuse they are designed to store the collection of items that may change\n",
        "  overtime.we can freely add,delete & modify the elements.\n",
        "  Tuples are immutable by design as they meant to represent fixed collections of items."
      ],
      "metadata": {
        "id": "MU35Mo3af7UC"
      }
    },
    {
      "cell_type": "markdown",
      "source": [
        "7.What is the difference between “==” and “is” operators in Python?\n",
        "- \"==\" operator is used for the equality check.To compare the values of the two objects.\n",
        "  if the values are equal, returns true, else false.\n",
        "  \"is\" opeartor is used for compares the memory address.\n",
        "  returns ture is both variable refers to the same object, else false"
      ],
      "metadata": {
        "id": "4T6s5xwdgIFs"
      }
    },
    {
      "cell_type": "markdown",
      "source": [
        "8. What are logical operators in Python?\n",
        " - Logical operators are used to combine the boolean expressions we use in implementing the logic\n",
        "  The operators are and, or & not.\n",
        "  'and' returns true is both operands are true.\n",
        "  'or' returns true if one of the operand is true.\n",
        "  'not' reverse the boolean value."
      ],
      "metadata": {
        "id": "eoLaQc_GgPV5"
      }
    },
    {
      "cell_type": "markdown",
      "source": [
        "9. What is type casting in Python?\n",
        "-  Type Casting in python refers to the conversion of one datatype to another datatype.\n",
        "  We have two types:\n",
        "    1.implicit type casting:\n",
        "      Python itself automatically converts the one datatype into higher datatype to avoid dataloss.\n",
        "    2.Explicit type casting:\n",
        "      Programmer explicitly ask the python to convert the datatype"
      ],
      "metadata": {
        "id": "Olz3w9k3giRd"
      }
    },
    {
      "cell_type": "markdown",
      "source": [
        "10. What is the difference between implicit and explicit type casting?\n",
        "- The main difference between implicit and explicit type casting is who intiates the conversion.\n",
        "   programmer or the python."
      ],
      "metadata": {
        "id": "PASRkDqYgrlj"
      }
    },
    {
      "cell_type": "markdown",
      "source": [
        "11. What is the purpose of conditional statements in Python\n",
        " - Conditional statements are used to control the flow of the program based on the decisions\n",
        "  given by the programmer.\n",
        "  They determine which block of code should be run based on condition ture or false.\n",
        "  if, if-else, elif ladder are the conditional statements."
      ],
      "metadata": {
        "id": "F04WlgSHgyGb"
      }
    },
    {
      "cell_type": "markdown",
      "source": [
        "12. How does the elif statement work?\n",
        "- elif statement is used to provide multiple conditions.\n",
        "   How it works:\n",
        "    1.It checks the 'if' condition.\n",
        "    2.If the condition is false, then checks the 'elif' condition.\n",
        "    3.If that condition is false, then checks the next 'elif' condition.\n",
        "    4.if none of conditions met, execute the else block.\n"
      ],
      "metadata": {
        "id": "Q5cLSEVMg6fU"
      }
    },
    {
      "cell_type": "markdown",
      "source": [
        "13. What is the difference between for and while loops?\n",
        "- 'for' loop is used for the known iterations.\n",
        "   'while' loop is used when we want to execute the code in loop when condition is met or\n",
        "   for unknown iterations.here we need to manage the loop variable manually.\n",
        "\n"
      ],
      "metadata": {
        "id": "j1DwLAaUhBib"
      }
    },
    {
      "cell_type": "markdown",
      "source": [
        "14.Describe a scenario where a while loop is more suitable than a for loop?\n",
        "  - Scenario: Validating User Input\n",
        "   we are building a program that asks the user to enter a positive number.\n",
        "   You don’t know how many times the user might enter invalid data (like negative numbers or letters),\n",
        "   so you need to keep asking until they get it right.\n",
        "\n"
      ],
      "metadata": {
        "id": "wQ_VyX5ZhJdp"
      }
    },
    {
      "cell_type": "markdown",
      "source": [],
      "metadata": {
        "id": "ZnxX5xYzgfa7"
      }
    },
    {
      "cell_type": "markdown",
      "source": [
        " **Practical questions**"
      ],
      "metadata": {
        "id": "ok8_8UyjhSje"
      }
    },
    {
      "cell_type": "code",
      "source": [
        "# 1.Write a Python program to print \"Hello, World!\"\n",
        "print(\"Hello, World!\")"
      ],
      "metadata": {
        "colab": {
          "base_uri": "https://localhost:8080/"
        },
        "id": "sJ8HOQ7xhdM7",
        "outputId": "bbc356d8-3e3d-40d8-e362-a65c192edcbc"
      },
      "execution_count": 1,
      "outputs": [
        {
          "output_type": "stream",
          "name": "stdout",
          "text": [
            "Hello, World!\n"
          ]
        }
      ]
    },
    {
      "cell_type": "code",
      "source": [
        "#2.Write a Python program that displays your name and age\n",
        "\n",
        "name=input(\"Enter your name:\")\n",
        "age=int(input(\"Enter age\"))\n",
        "print(\"My Name is :\",name)\n",
        "print(\"My Age is :\",age)"
      ],
      "metadata": {
        "colab": {
          "base_uri": "https://localhost:8080/"
        },
        "id": "X10QckhWhsJH",
        "outputId": "d9650e5f-1bc4-459d-eb96-26fa28c6124d"
      },
      "execution_count": 2,
      "outputs": [
        {
          "output_type": "stream",
          "name": "stdout",
          "text": [
            "Enter your name:Devi\n",
            "Enter age26\n",
            "My Name is : Devi\n",
            "My Age is : 26\n"
          ]
        }
      ]
    },
    {
      "cell_type": "code",
      "source": [
        "#3.Write code to print all the pre-defined keywords in Python using the keyword library\n",
        "\n",
        "import keyword\n",
        "print(keyword.kwlist)"
      ],
      "metadata": {
        "colab": {
          "base_uri": "https://localhost:8080/"
        },
        "id": "zl-WYya3h01X",
        "outputId": "9dd1f479-20b7-40a8-e38f-5e66fb8c5420"
      },
      "execution_count": 3,
      "outputs": [
        {
          "output_type": "stream",
          "name": "stdout",
          "text": [
            "['False', 'None', 'True', 'and', 'as', 'assert', 'async', 'await', 'break', 'class', 'continue', 'def', 'del', 'elif', 'else', 'except', 'finally', 'for', 'from', 'global', 'if', 'import', 'in', 'is', 'lambda', 'nonlocal', 'not', 'or', 'pass', 'raise', 'return', 'try', 'while', 'with', 'yield']\n"
          ]
        }
      ]
    },
    {
      "cell_type": "code",
      "source": [
        "# 4.Write a program that checks if a given word is a Python keyword.\n",
        "import keyword\n",
        "word=input(\"enter keyword\")\n",
        "if keyword.iskeyword(word):\n",
        "    print(\"Given word\",word,\"is a keyword\")\n",
        "else:\n",
        "    print(\"Given word\",word,\"is not a keyword\")"
      ],
      "metadata": {
        "colab": {
          "base_uri": "https://localhost:8080/"
        },
        "id": "VSUBA3GVh8Ym",
        "outputId": "1df943fe-dbe1-4b34-f5ae-7946184fb708"
      },
      "execution_count": 4,
      "outputs": [
        {
          "output_type": "stream",
          "name": "stdout",
          "text": [
            "enter keywordif\n",
            "Given word if is a keyword\n"
          ]
        }
      ]
    },
    {
      "cell_type": "code",
      "source": [
        "'''5.Create a list and tuple in Python, and demonstrate how attempting to change an element works differently\n",
        "for each.\n",
        "'''\n",
        "mylist=[1,2,3,4,5]\n",
        "mytuple=(9,8,7,6)\n",
        "print(\"original list\",mylist)\n",
        "mylist[1]=7\n",
        "print(\"modified list\",mylist)\n",
        "print(\"original tuple\",mytuple)\n",
        "mytuple[0]=3 #here it throw an error\n",
        "print(\"modified tuple\",mytuple)"
      ],
      "metadata": {
        "colab": {
          "base_uri": "https://localhost:8080/",
          "height": 245
        },
        "id": "aTUEYNdMiP3X",
        "outputId": "48bfaf76-66c7-4166-c053-2ba2a94790da"
      },
      "execution_count": 5,
      "outputs": [
        {
          "output_type": "stream",
          "name": "stdout",
          "text": [
            "original list [1, 2, 3, 4, 5]\n",
            "modified list [1, 7, 3, 4, 5]\n",
            "original tuple (9, 8, 7, 6)\n"
          ]
        },
        {
          "output_type": "error",
          "ename": "TypeError",
          "evalue": "'tuple' object does not support item assignment",
          "traceback": [
            "\u001b[0;31m---------------------------------------------------------------------------\u001b[0m",
            "\u001b[0;31mTypeError\u001b[0m                                 Traceback (most recent call last)",
            "\u001b[0;32m/tmp/ipython-input-852550931.py\u001b[0m in \u001b[0;36m<cell line: 0>\u001b[0;34m()\u001b[0m\n\u001b[1;32m      8\u001b[0m \u001b[0mprint\u001b[0m\u001b[0;34m(\u001b[0m\u001b[0;34m\"modified list\"\u001b[0m\u001b[0;34m,\u001b[0m\u001b[0mmylist\u001b[0m\u001b[0;34m)\u001b[0m\u001b[0;34m\u001b[0m\u001b[0;34m\u001b[0m\u001b[0m\n\u001b[1;32m      9\u001b[0m \u001b[0mprint\u001b[0m\u001b[0;34m(\u001b[0m\u001b[0;34m\"original tuple\"\u001b[0m\u001b[0;34m,\u001b[0m\u001b[0mmytuple\u001b[0m\u001b[0;34m)\u001b[0m\u001b[0;34m\u001b[0m\u001b[0;34m\u001b[0m\u001b[0m\n\u001b[0;32m---> 10\u001b[0;31m \u001b[0mmytuple\u001b[0m\u001b[0;34m[\u001b[0m\u001b[0;36m0\u001b[0m\u001b[0;34m]\u001b[0m\u001b[0;34m=\u001b[0m\u001b[0;36m3\u001b[0m \u001b[0;31m#here it throw an error\u001b[0m\u001b[0;34m\u001b[0m\u001b[0;34m\u001b[0m\u001b[0m\n\u001b[0m\u001b[1;32m     11\u001b[0m \u001b[0mprint\u001b[0m\u001b[0;34m(\u001b[0m\u001b[0;34m\"modified tuple\"\u001b[0m\u001b[0;34m,\u001b[0m\u001b[0mmytuple\u001b[0m\u001b[0;34m)\u001b[0m\u001b[0;34m\u001b[0m\u001b[0;34m\u001b[0m\u001b[0m\n",
            "\u001b[0;31mTypeError\u001b[0m: 'tuple' object does not support item assignment"
          ]
        }
      ]
    },
    {
      "cell_type": "code",
      "source": [
        "#6.Write a function to demonstrate the behavior of mutable and immutable arguments.\n",
        "\n",
        "def mutbehave(n,l):\n",
        "    n+=10\n",
        "    l.append(7)\n",
        "    print(\"inside function modified number is\",n,\"and modified list is\",l)\n",
        "\n",
        "\n",
        "integer_num=6\n",
        "list_numbers=[1,2,3,4,5]\n",
        "print(\"Original number\",integer_num)\n",
        "print(\"original list\",list_numbers)\n",
        "mutbehave(integer_num,list_numbers)\n",
        "print(\"outside function modified number\",integer_num)\n",
        "print(\"outside function modified list\",list_numbers)\n"
      ],
      "metadata": {
        "colab": {
          "base_uri": "https://localhost:8080/"
        },
        "id": "VE3dkznKieM7",
        "outputId": "2a7e9732-d08d-4f68-8d69-b6c7f3130e43"
      },
      "execution_count": 6,
      "outputs": [
        {
          "output_type": "stream",
          "name": "stdout",
          "text": [
            "Original number 6\n",
            "original list [1, 2, 3, 4, 5]\n",
            "inside function modified number is 16 and modified list is [1, 2, 3, 4, 5, 7]\n",
            "outside function modified number 6\n",
            "outside function modified list [1, 2, 3, 4, 5, 7]\n"
          ]
        }
      ]
    },
    {
      "cell_type": "code",
      "source": [
        "#7.Write a program that performs basic arithmetic operations on two user-input numbers\n",
        "\n",
        "num1=int(input(\"Enter first number\"))\n",
        "num2=int(input(\"Enter Second number\"))\n",
        "print(\"Arithmetic operations of\",num1 ,\"and\",num2)\n",
        "print(\"Addition:\",num1+num2)\n",
        "print(\"Subraction:\",num1-num2)\n",
        "print(\"Multiplication:\",num1*num2)\n",
        "print(\"Division:\",num1/num2)\n",
        "print(\"Floor Division:\",num1//num2)\n",
        "print(\"Floor Division:\",num1**num2)"
      ],
      "metadata": {
        "colab": {
          "base_uri": "https://localhost:8080/"
        },
        "id": "4ZYM2Cm-il4R",
        "outputId": "d4b3fca5-cc1f-4b6f-dc6d-247cbab296cd"
      },
      "execution_count": 7,
      "outputs": [
        {
          "output_type": "stream",
          "name": "stdout",
          "text": [
            "Enter first number5\n",
            "Enter Second number2\n",
            "Arithmetic operations of 5 and 2\n",
            "Addition: 7\n",
            "Subraction: 3\n",
            "Multiplication: 10\n",
            "Division: 2.5\n",
            "Floor Division: 2\n",
            "Floor Division: 25\n"
          ]
        }
      ]
    },
    {
      "cell_type": "code",
      "source": [
        "'''8.Write a program to demonstrate the use of logical operators\n",
        "and operator'''\n",
        "n=int(input(\"Enter  number\"))\n",
        "if n>=0 and n<=99:\n",
        "    print(\"Number is below 100\")\n",
        "elif n>=100 and n<=200:\n",
        "    print(\"Number is below 200\")\n",
        "else:\n",
        "   print(\"Number is above 200\")\n",
        "\n",
        "#or operator\n",
        "if n>=0 or n<=200:\n",
        "    print(\"Number is below 200\")\n",
        "#not operator\n",
        "if not n<200:\n",
        "    print(\"Number is below 200\")\n"
      ],
      "metadata": {
        "colab": {
          "base_uri": "https://localhost:8080/"
        },
        "id": "CkNdeTn1ix-9",
        "outputId": "54aff4f0-0a08-40d3-855b-9ec0fb997395"
      },
      "execution_count": 8,
      "outputs": [
        {
          "output_type": "stream",
          "name": "stdout",
          "text": [
            "Enter  number99\n",
            "Number is below 100\n",
            "Number is below 200\n"
          ]
        }
      ]
    },
    {
      "cell_type": "code",
      "source": [
        "#9.Write a Python program to convert user input from string to integer, float, and boolean types\n",
        "\n",
        "n=input(\"Enter  String\")\n",
        "print(\"String\",n)\n",
        "#convert to int\n",
        "i=int(n)\n",
        "print(\"integer\",i)\n",
        "#Convert to float\n",
        "f=float(n)\n",
        "print(\"Float\",f)\n",
        "\n",
        "#Convert to boolean\n",
        "b=bool(n)\n",
        "print(\"Boolean\",b)"
      ],
      "metadata": {
        "colab": {
          "base_uri": "https://localhost:8080/"
        },
        "id": "8b47MfZSjBco",
        "outputId": "7bb2e224-16f5-4958-bd09-27a90f6b6d96"
      },
      "execution_count": 9,
      "outputs": [
        {
          "output_type": "stream",
          "name": "stdout",
          "text": [
            "Enter  String45\n",
            "String 45\n",
            "integer 45\n",
            "Float 45.0\n",
            "Boolean True\n"
          ]
        }
      ]
    },
    {
      "cell_type": "code",
      "source": [
        "#10 Write code to demonstrate type casting with list elements\n",
        "\n",
        "list_strings=['1','2','3','4']\n",
        "print(\"Original list with strings:\",list_strings)\n",
        "int_list=[]\n",
        "for i in list_strings:\n",
        "    int_list.append(int(i))\n",
        "\n",
        "print(\"Modified list with integers:\",int_list)"
      ],
      "metadata": {
        "colab": {
          "base_uri": "https://localhost:8080/"
        },
        "id": "8bBD99gPjJym",
        "outputId": "e9894328-8afe-4009-bd8c-ea99822bc74e"
      },
      "execution_count": 10,
      "outputs": [
        {
          "output_type": "stream",
          "name": "stdout",
          "text": [
            "Original list with strings: ['1', '2', '3', '4']\n",
            "Modified list with integers: [1, 2, 3, 4]\n"
          ]
        }
      ]
    },
    {
      "cell_type": "code",
      "source": [
        "#11.Write a program that checks if a number is positive, negative, or zero\n",
        "\n",
        "n=int(input(\"Enter number\"))\n",
        "if n<0:\n",
        "    print(n,\"is a negative number\")\n",
        "elif n==0:\n",
        "    print(n,\"is a equal to zero\")\n",
        "else:\n",
        "    print(n,\"is a positive number\")\n"
      ],
      "metadata": {
        "colab": {
          "base_uri": "https://localhost:8080/"
        },
        "id": "-qGjhV0mjUu1",
        "outputId": "5f0c5345-43fb-42e1-b8d4-fcb0b51a9aaf"
      },
      "execution_count": 11,
      "outputs": [
        {
          "output_type": "stream",
          "name": "stdout",
          "text": [
            "Enter number0\n",
            "0 is a equal to zero\n"
          ]
        }
      ]
    },
    {
      "cell_type": "code",
      "source": [
        "#12.Write a for loop to print numbers from 1 to 10\n",
        "\n",
        "for i in range(1,11):\n",
        "    print(i,end=' ')"
      ],
      "metadata": {
        "colab": {
          "base_uri": "https://localhost:8080/"
        },
        "id": "KYS2xcmcjeNf",
        "outputId": "788ed777-713d-4d00-e0d9-24ecb64a9118"
      },
      "execution_count": 12,
      "outputs": [
        {
          "output_type": "stream",
          "name": "stdout",
          "text": [
            "1 2 3 4 5 6 7 8 9 10 "
          ]
        }
      ]
    },
    {
      "cell_type": "code",
      "source": [
        "#13.Write a Python program to find the sum of all even numbers between 1 and 50\n",
        "\n",
        "sum=0\n",
        "for i in range(1,51):\n",
        "    if i%2==0:\n",
        "        sum+=i\n",
        "        print(i,end=' ')\n",
        "print(\"\\n\",sum)\n",
        ""
      ],
      "metadata": {
        "colab": {
          "base_uri": "https://localhost:8080/"
        },
        "id": "E-9bBSgAjlIX",
        "outputId": "53bf0936-ac7c-4b15-a888-466723011118"
      },
      "execution_count": 13,
      "outputs": [
        {
          "output_type": "stream",
          "name": "stdout",
          "text": [
            "2 4 6 8 10 12 14 16 18 20 22 24 26 28 30 32 34 36 38 40 42 44 46 48 50 \n",
            " 650\n"
          ]
        }
      ]
    },
    {
      "cell_type": "code",
      "source": [
        "#14.Write a program to reverse a string using a while loop\n",
        "\n",
        "s=input(\"enter string\")\n",
        "print(\"String entered:\",s)\n",
        "l=len(s)\n",
        "i=l-1\n",
        "while(i>=0):\n",
        "    print(s[i],end='')\n",
        "    i-=1"
      ],
      "metadata": {
        "colab": {
          "base_uri": "https://localhost:8080/"
        },
        "id": "uLlDCpAcjtZd",
        "outputId": "19240e1f-1c97-4486-93c4-6fb782445406"
      },
      "execution_count": 14,
      "outputs": [
        {
          "output_type": "stream",
          "name": "stdout",
          "text": [
            "enter stringpython\n",
            "String entered: python\n",
            "nohtyp"
          ]
        }
      ]
    },
    {
      "cell_type": "code",
      "source": [
        "'''15.Write a Python program to calculate the factorial of a number\n",
        "provided by the user using a while loop.\n",
        "'''\n",
        "num=int(input(\"Enter number\"))\n",
        "fact=1\n",
        "n=num\n",
        "while(n>0):\n",
        "    fact*=n\n",
        "    n-=1\n",
        "print(\"Factorial of\",num,\"is\",fact)\n",
        "\n"
      ],
      "metadata": {
        "colab": {
          "base_uri": "https://localhost:8080/"
        },
        "id": "6bXEcFQcj26w",
        "outputId": "a7b9a180-60b2-47e9-e57c-ffcb6c3bd34b"
      },
      "execution_count": 15,
      "outputs": [
        {
          "output_type": "stream",
          "name": "stdout",
          "text": [
            "Enter number5\n",
            "Factorial of 5 is 120\n"
          ]
        }
      ]
    }
  ]
}