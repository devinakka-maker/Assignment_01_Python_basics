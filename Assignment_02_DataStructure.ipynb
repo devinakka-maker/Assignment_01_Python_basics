{
  "nbformat": 4,
  "nbformat_minor": 0,
  "metadata": {
    "colab": {
      "provenance": []
    },
    "kernelspec": {
      "name": "python3",
      "display_name": "Python 3"
    },
    "language_info": {
      "name": "python"
    }
  },
  "cells": [
    {
      "cell_type": "markdown",
      "source": [
        "**1.what are data structures, and why are they important?**\n",
        "- Data structures are ways to organize and store data so it can be accessed and modified efficiently.\n",
        "- python offers two categories:\n",
        "  - Built-in Data structure:\n",
        "   list,tuple,set,dictionaries\n",
        "  - user-defined Data structure:\n",
        "   stack,queue\n",
        "- They are important because:\n",
        "  - Scalability:\n",
        "As your program grows, efficient data handling becomes critical. Proper use of data structures ensures your code remains fast and maintainable.\n",
        "  - Efficiency:\n",
        "Choosing the right structure can drastically improve speed and memory usage.\n",
        "\n"
      ],
      "metadata": {
        "id": "lrsLkyx4BT5B"
      }
    },
    {
      "cell_type": "markdown",
      "source": [
        "**2. Explain the difference between mutable and immutable data types with examples.**\n",
        "- Mutability refers to whether an object’s value can be changed after it’s created.\n",
        "  - Mutable Datatype:\n",
        "     These can be changed after creation. You can modify, add, or remove elements without creating a new object.\n",
        "list,set & dictionaries are mutable datatypes.\n",
        "  - Immutable Datatype:\n",
        "These cannot be changed once created. Any operation that seems to modify them actually creates a new object.\n",
        "strings,tuples,integer are immutable datatypes"
      ],
      "metadata": {
        "id": "-THB2O-uFA_b"
      }
    },
    {
      "cell_type": "markdown",
      "source": [
        "**3. What are the main differences between lists and tuples in Python?**\n",
        "-  The difference between lists & tuples are\n",
        "   - Mutability:\n",
        "  lists are mutable and have more built-in methods,\n",
        "  tuples are immutable and have less built-in methods\n",
        "   - Performance:\n",
        "  Tuples are faster than lists for iteration and access because they are immutable and stored more compactly.\n",
        " Lists are slightly slower due to their dynamic nature.\n",
        "   - Use Case:\n",
        "    Use lists when your data changes dynamically\n",
        "    Use tuples when your data is fixed and you want to ensure it remains unchanged (e.g., coordinates, configuration settings).\n",
        "   - Memory Usage:\n",
        "     Tuples consume less memory than lists.\n",
        "   - tuples are more safe than list in data security\n",
        "\n",
        "\n",
        "\n",
        "\n",
        "\n"
      ],
      "metadata": {
        "id": "3dO2Q29uS24r"
      }
    },
    {
      "cell_type": "markdown",
      "source": [
        "**4**. **Describe how dictionaries store data?**\n",
        "- In python, dictionaries store data in the form of key value pairs.\n",
        "Here keys must be immuatable(strings,int,tuples are allowed)\n",
        "and the values can be mutable.\n",
        "\n"
      ],
      "metadata": {
        "id": "ewVWfkWzV_gC"
      }
    },
    {
      "cell_type": "markdown",
      "source": [
        "**5.Why might you use a set instead of a list in Python?**\n",
        "- Sets and lists store the collection of items.\n",
        "- Reasons for choosing the set:\n",
        "   - Uniqueness Guaranteed:\n",
        "      Sets automatically eliminate duplicates, so if you need a collection of unique items, sets are ideal.\n",
        "  - Faster Membership Testing:\n",
        "     Sets use hash tables, directly scans the required element- Lists require scanning each element\n",
        "  - Mathematical Set Operations\n",
        "     Sets support operations like union, intersection, and difference, which are super handy for comparing datasets.\n",
        "- When Not to Use Sets\n",
        "  - If order matters, or you need to access elements by index, use a list.\n",
        "  - Sets are unordered, so they don’t preserve the sequence of elements\n",
        "\n",
        "\n"
      ],
      "metadata": {
        "id": "4n6iYDg-XQiv"
      }
    },
    {
      "cell_type": "markdown",
      "source": [
        "**6.What is a string in Python, and how is it different from a list?**\n",
        "- A string is a sequence of characters enclosed in single ('...'), double (\"...\"), or triple quotes ('''...'''). It can be characters,symbols and integers.\n",
        "strings are immutable,indexed & iterable.\n",
        "- while lists are sequence of datatypes\n",
        "lists are mutable,indexed & iterable.\n"
      ],
      "metadata": {
        "id": "6e8N2HHoaGq3"
      }
    },
    {
      "cell_type": "markdown",
      "source": [
        "**7.How do tuples ensure data integrity in Python?**\n",
        "- Tuples are immutable.once they are created we cannot change the object.so this ensures the data remains same through out the program."
      ],
      "metadata": {
        "id": "u8XTRGacyQqa"
      }
    },
    {
      "cell_type": "markdown",
      "source": [
        "**8.What is a hash table, and how does it relate to dictionaries in Python?**\n",
        "- A hash table is a data structure that stores key-value pairs and allows for fast data retrieval.\n",
        "- It works by using a hash function to convert a key (like a string or number) into an index in an internal array.\n",
        "- This index determines where the value is stored\n",
        "- Python's dict type is a built-in implementation of a hash table\n",
        "\n"
      ],
      "metadata": {
        "id": "IIfhrI8BzCUS"
      }
    },
    {
      "cell_type": "markdown",
      "source": [
        "**9.Can lists contain different data types in Python?**\n",
        "- Yes,Lists are the collection of elements of hetrogeneous datatype.\n"
      ],
      "metadata": {
        "id": "JFf2NoE01LGR"
      }
    },
    {
      "cell_type": "markdown",
      "source": [
        "**10.Explain why strings are immutable in Python?**\n",
        "- String are immutable because of their hashability property and for efficient memory usage."
      ],
      "metadata": {
        "id": "LAIw8_hK1tiq"
      }
    },
    {
      "cell_type": "markdown",
      "source": [
        "**11.What advantages do dictionaries offer over lists for certain tasks?**\n",
        "- Advantages of Dictionaries over lists:\n",
        "  - Fast lookups by keys:\n",
        "    Dictionaries uses the keys which is faster than lists for searching the element\n",
        "  - unique keys prevention: Dictionaries maintain only unique keys\n",
        "\n",
        "  \n"
      ],
      "metadata": {
        "id": "stOG9cFO2IIt"
      }
    },
    {
      "cell_type": "markdown",
      "source": [
        "**12.Describe a scenario where using a tuple would be preferable over a list?**\n",
        "- Storing the employee id and the name.\n",
        "(1,\"devi\") (2,\"sai\")\n",
        "l=[(1,\"devi\"), (2,\"sai\")]"
      ],
      "metadata": {
        "id": "kTq7mmBW2Q3s"
      }
    },
    {
      "cell_type": "markdown",
      "source": [
        "**13.How do sets handle duplicate values in Python?**\n",
        "- Sets automatically remove duplicate values. They are designed to store only unique elements, so if you try to add a duplicate, Python simply ignores it\n",
        "\n"
      ],
      "metadata": {
        "id": "mAT6uq7g2Yoq"
      }
    },
    {
      "cell_type": "markdown",
      "source": [
        "**14.How does the “in” keyword work differently for lists and dictionaries?**\n",
        "- \"in\" is a membership operator but works differently in lists & dictionaries\n",
        "  - Lists: \"in\" operator checks the value is present or not.performs linear search\n",
        "  - Dictionaries: \"in\" operator checks the key is present or not"
      ],
      "metadata": {
        "id": "-XYYgUr32k3p"
      }
    },
    {
      "cell_type": "markdown",
      "source": [
        "**15.Can you modify the elements of a tuple? Explain why or why not?**\n",
        "-  you cannot modify the elements of a tuple in Python. Tuples are immutable, which means once they’re created, their contents are locked in and can’t be changed.\n",
        "- Tuples Are Immutable because:\n",
        "   - Designed for safety: Tuples are often used to store fixed data\n",
        "   - Performance boost: Because they don’t change, Python can optimize memory usage and access speed.\n",
        "   - Hashable: Tuples can be used as keys in dictionaries (if they contain only immutable elements), which wouldn’t be possible if they were mutable\n",
        "\n"
      ],
      "metadata": {
        "id": "Y81vkLHD2s7g"
      }
    },
    {
      "cell_type": "markdown",
      "source": [
        "**16.What is a nested dictionary, and give an example of its use case?**\n",
        "- A nested dictionary in Python is a dictionary inside another dictionary. It’s used to organize related data in a structured way.\n",
        " - Simple Use Case: Employee Records\n",
        "Imagine you want to store details of multiple employees. Each employee has their own name, age, and department.\n",
        "data={\"emp1\":{\"name\":\"devi\",\"id\":1},\n",
        "       \"emp2\":{\"name\":\"hema\",\"id\":2}}"
      ],
      "metadata": {
        "id": "dzeOa-nm21wd"
      }
    },
    {
      "cell_type": "markdown",
      "source": [
        "**17.Describe the time complexity of accessing elements in a dictionary?**\n",
        "- Accessing elements in a Python dictionary is very fast\n",
        "o(1)\n",
        "- Directly scans the element as it uses the hash value technique\n"
      ],
      "metadata": {
        "id": "FyZ0vpOK297m"
      }
    },
    {
      "cell_type": "markdown",
      "source": [
        "**18.In what situations are lists preferred over dictionaries?**\n",
        "- when we need to maintain ordered and allow duplicate elements, choose lists"
      ],
      "metadata": {
        "id": "o79u0jXP3Hu-"
      }
    },
    {
      "cell_type": "markdown",
      "source": [
        "**19.Why are dictionaries considered unordered, and how does that affect data retrieval?**\n",
        "- Before Python 3.7, dictionaries didn’t keep track of the order in which items were added. So if you added keys like \"name\", \"age\", and \"city\", they might come out in a different order when you looked at the dictionary later.\n",
        "- You couldn’t rely on the order of items.\n",
        "- You accessed values by key, not by position.\n",
        "- Since Python 3.7, dictionaries do keep insertion order, but you still can’t access items by index like a list. You still use keys to get values\n",
        "\n"
      ],
      "metadata": {
        "id": "OjcPsJ7O3QfH"
      }
    },
    {
      "cell_type": "markdown",
      "source": [
        "**20.Explain the difference between a list and a dictionary in terms of data retrieval.**\n",
        "- List access by positions(index)\n",
        "- Dictionaries access elements by key"
      ],
      "metadata": {
        "id": "MtloOpqu3YHl"
      }
    },
    {
      "cell_type": "code",
      "source": [
        "#1 Write a code to create a string with your name and print it\n",
        "name=input(\"enter name\")\n",
        "print(\"My name is\",name)"
      ],
      "metadata": {
        "colab": {
          "base_uri": "https://localhost:8080/"
        },
        "id": "Z51UOLuh33LV",
        "outputId": "97b4b4a9-98b6-4ebe-a6a5-2ecc5297c3dc"
      },
      "execution_count": null,
      "outputs": [
        {
          "output_type": "stream",
          "name": "stdout",
          "text": [
            "enter nameDevi Nakak\n",
            "My name is Devi Nakak\n"
          ]
        }
      ]
    },
    {
      "cell_type": "code",
      "source": [
        "#2.Write a code to find the length of the string \"Hello World\"?\n",
        "a=\"Hello World\"\n",
        "print(f\"length of {a} is {len(a)}\")"
      ],
      "metadata": {
        "colab": {
          "base_uri": "https://localhost:8080/"
        },
        "id": "GKUP8Qu74zXN",
        "outputId": "e716ad86-8a19-4e8f-88a5-ede9c471db58"
      },
      "execution_count": null,
      "outputs": [
        {
          "output_type": "stream",
          "name": "stdout",
          "text": [
            "length of Hello World is 11\n"
          ]
        }
      ]
    },
    {
      "cell_type": "code",
      "source": [
        "#3.Write a code to slice the first 3 characters from the string \"Python Programming\".\n",
        "a=\"Python Programming\"\n",
        "print(a[:3])"
      ],
      "metadata": {
        "colab": {
          "base_uri": "https://localhost:8080/"
        },
        "id": "u3fpzEr95Muf",
        "outputId": "4ebbaf05-da64-425d-ebcb-7e20ef3434cd"
      },
      "execution_count": null,
      "outputs": [
        {
          "output_type": "stream",
          "name": "stdout",
          "text": [
            "Pyt\n"
          ]
        }
      ]
    },
    {
      "cell_type": "code",
      "source": [
        "#4.Write a code to convert the string \"hello\" to uppercase\n",
        "a=\"hello\"\n",
        "print(f\"The uppercase of {a} is {a.upper()}\")"
      ],
      "metadata": {
        "colab": {
          "base_uri": "https://localhost:8080/"
        },
        "id": "OuNye1if5dag",
        "outputId": "084e3bde-e65a-43dd-e3c4-103d211c3864"
      },
      "execution_count": null,
      "outputs": [
        {
          "output_type": "stream",
          "name": "stdout",
          "text": [
            "uppercase of hello is HELLO\n"
          ]
        }
      ]
    },
    {
      "cell_type": "code",
      "source": [
        "#5.Write a code to replace the word \"apple\" with \"orange\" in the string \"I like apple\"?\n",
        "a=\"I like apple\"\n",
        "new=a.replace(\"apple\",\"orange\")\n",
        "print(f\"old string is \\'{a}\\' and replaced string is \\'{new}\\'\")"
      ],
      "metadata": {
        "colab": {
          "base_uri": "https://localhost:8080/"
        },
        "id": "mpAtSJEj5xaX",
        "outputId": "356872e0-eb7a-410e-ee51-aafb542f8cd9"
      },
      "execution_count": null,
      "outputs": [
        {
          "output_type": "stream",
          "name": "stdout",
          "text": [
            "old string is 'I like apple' and replaced string is 'I like orange'\n"
          ]
        }
      ]
    },
    {
      "cell_type": "code",
      "source": [
        "#6.Write a code to create a list with numbers 1 to 5 and print it.\n",
        "l=[]\n",
        "for i in range(1,6):\n",
        "  l.append(i)\n",
        "print(l)"
      ],
      "metadata": {
        "colab": {
          "base_uri": "https://localhost:8080/"
        },
        "id": "WCPAfj8_6VlF",
        "outputId": "1d9d9af5-8e2c-4136-f40e-00c617252a31"
      },
      "execution_count": null,
      "outputs": [
        {
          "output_type": "stream",
          "name": "stdout",
          "text": [
            "[1, 2, 3, 4, 5]\n"
          ]
        }
      ]
    },
    {
      "cell_type": "code",
      "source": [
        "#7.Write a code to append the number 10 to the list [1, 2, 3, 4]\n",
        "l=[1,2,3,4]\n",
        "print(f\"original list is {l}\")\n",
        "l.append(10)\n",
        "print(f\"modified list is {l}\")\n"
      ],
      "metadata": {
        "colab": {
          "base_uri": "https://localhost:8080/"
        },
        "id": "7SuOrw1bwXXg",
        "outputId": "8ed4a7df-dfc2-4c67-d233-a07eb4a407e7"
      },
      "execution_count": null,
      "outputs": [
        {
          "output_type": "stream",
          "name": "stdout",
          "text": [
            "original list is [1, 2, 3, 4]\n",
            "modified list is [1, 2, 3, 4, 10]\n"
          ]
        }
      ]
    },
    {
      "cell_type": "code",
      "source": [
        "#8.Write a code to remove the number 3 from the list [1, 2, 3, 4, 5]\n",
        "l=[1,2,3,4,5]\n",
        "print(f\"original list is {l}\")\n",
        "l.remove(3)\n",
        "print(f\"modified list is {l}\")\n"
      ],
      "metadata": {
        "colab": {
          "base_uri": "https://localhost:8080/"
        },
        "id": "ZN4TRGVOwpHV",
        "outputId": "52d727c7-28a8-428f-e81e-bce5d8d85fac"
      },
      "execution_count": null,
      "outputs": [
        {
          "output_type": "stream",
          "name": "stdout",
          "text": [
            "original list is [1, 2, 3, 4, 5]\n",
            "modified list is [1, 2, 4, 5]\n"
          ]
        }
      ]
    },
    {
      "cell_type": "code",
      "source": [
        "#9.Write a code to access the second element in the list ['a', 'b', 'c', 'd']\n",
        "l=['a', 'b', 'c', 'd']\n",
        "print(f\"the second element in the list {l} is \\'{l[1]}\\'\")"
      ],
      "metadata": {
        "colab": {
          "base_uri": "https://localhost:8080/"
        },
        "id": "tStdhdOQxB0B",
        "outputId": "6feed9a4-4e0b-4ae7-e7dd-3f54799d8dbd"
      },
      "execution_count": null,
      "outputs": [
        {
          "output_type": "stream",
          "name": "stdout",
          "text": [
            "the second element in the list ['a', 'b', 'c', 'd'] is 'b'\n"
          ]
        }
      ]
    },
    {
      "cell_type": "code",
      "source": [
        "#10.Write a code to reverse the list [10, 20, 30, 40, 50]\n",
        "l=[10, 20, 30, 40, 50]\n",
        "l.reverse()\n",
        "print(l)\n"
      ],
      "metadata": {
        "colab": {
          "base_uri": "https://localhost:8080/"
        },
        "id": "hlcSafmNxfxN",
        "outputId": "0aed7c75-fd03-48ac-d334-db696bc7f78b"
      },
      "execution_count": null,
      "outputs": [
        {
          "output_type": "stream",
          "name": "stdout",
          "text": [
            "[50, 40, 30, 20, 10]\n"
          ]
        }
      ]
    },
    {
      "cell_type": "code",
      "source": [
        "#11.Write a code to create a tuple with the elements 100, 200, 300 and print it.\n",
        "t=(100,200,300)\n",
        "print(t)"
      ],
      "metadata": {
        "colab": {
          "base_uri": "https://localhost:8080/"
        },
        "id": "cJwujw2jyM-I",
        "outputId": "0e831524-4042-483a-d27c-4fa3c9abf7f5"
      },
      "execution_count": null,
      "outputs": [
        {
          "output_type": "stream",
          "name": "stdout",
          "text": [
            "(100, 200, 300)\n"
          ]
        }
      ]
    },
    {
      "cell_type": "code",
      "source": [
        "#12.Write a code to access the second-to-last element of the tuple ('red', 'green', 'blue', 'yellow').\n",
        "t=('red', 'green', 'blue', 'yellow')\n",
        "print(f\"the second-to-last elements in the tuple {t} are {t[1:]}\")"
      ],
      "metadata": {
        "colab": {
          "base_uri": "https://localhost:8080/"
        },
        "id": "SPsNcEEDyZTy",
        "outputId": "c0c3f877-f65c-46bb-c483-83892a72fe0a"
      },
      "execution_count": null,
      "outputs": [
        {
          "output_type": "stream",
          "name": "stdout",
          "text": [
            "the second-to-last elements in the tuple ('red', 'green', 'blue', 'yellow') are '('green', 'blue', 'yellow')'\n"
          ]
        }
      ]
    },
    {
      "cell_type": "code",
      "source": [
        "#13.Write a code to find the minimum number in the tuple (10, 20, 5, 15).\n",
        "t=(10, 20, 5, 15)\n",
        "a=min(t)\n",
        "print(f\"the smallest element in the tuple {t} is {min(t)}\")"
      ],
      "metadata": {
        "colab": {
          "base_uri": "https://localhost:8080/"
        },
        "id": "TXVHM4nYy1Mi",
        "outputId": "166d762d-1460-4700-cb64-5e68c258ffa2"
      },
      "execution_count": null,
      "outputs": [
        {
          "output_type": "stream",
          "name": "stdout",
          "text": [
            "the smallest element in the tuple (10, 20, 5, 15) is 5\n"
          ]
        }
      ]
    },
    {
      "cell_type": "code",
      "source": [
        "#14.Write a code to find the index of the element \"cat\" in the tuple ('dog', 'cat', 'rabbit').\n",
        "t=('dog', 'cat', 'rabbit')\n",
        "index=t.index('cat')\n",
        "print(f\"the index of element \\'cat\\' in the tuple {t} is {index}\")"
      ],
      "metadata": {
        "colab": {
          "base_uri": "https://localhost:8080/"
        },
        "id": "crIWIzDPzRri",
        "outputId": "2e14130b-137d-42e2-f80c-9d691b59674f"
      },
      "execution_count": null,
      "outputs": [
        {
          "output_type": "stream",
          "name": "stdout",
          "text": [
            "the index of element 'cat' in the tuple ('dog', 'cat', 'rabbit') is 1\n"
          ]
        }
      ]
    },
    {
      "cell_type": "code",
      "source": [
        "#15.Write a code to create a tuple containing three different fruits and check if \"kiwi\" is in it.\n",
        "\n",
        "t=('apple','orange','kiwi')\n",
        "print(t)\n",
        "if \"kiwi\" in t:\n",
        "    print(\"yes kiwi is present in the tuple\")\n",
        "else:\n",
        "    print(\"no kiwi is not present in the tuple\")\n",
        "\n"
      ],
      "metadata": {
        "colab": {
          "base_uri": "https://localhost:8080/"
        },
        "id": "IkDFIoyOzwPd",
        "outputId": "4ef581d5-601a-462d-b61a-917b216294f8"
      },
      "execution_count": null,
      "outputs": [
        {
          "output_type": "stream",
          "name": "stdout",
          "text": [
            "('apple', 'orange', 'kiwi')\n",
            "yes kiwi is present in the tuple\n"
          ]
        }
      ]
    },
    {
      "cell_type": "code",
      "source": [
        "#16.Write a code to create a set with the elements 'a', 'b', 'c' and print it\n",
        "s={'a', 'b', 'c'}\n",
        "print(s)"
      ],
      "metadata": {
        "colab": {
          "base_uri": "https://localhost:8080/"
        },
        "id": "ivoJow281uHl",
        "outputId": "e7db0f83-7839-48ee-96ef-1226e85f244c"
      },
      "execution_count": null,
      "outputs": [
        {
          "output_type": "stream",
          "name": "stdout",
          "text": [
            "{'b', 'a', 'c'}\n"
          ]
        }
      ]
    },
    {
      "cell_type": "code",
      "source": [
        "#17.Write a code to clear all elements from the set {1, 2, 3, 4, 5}\n",
        "s={1, 2, 3, 4, 5}\n",
        "print(f\"set before clearing the items {s}\")\n",
        "s.clear()\n",
        "print(f\"set after clearing the items {s}\")\n"
      ],
      "metadata": {
        "colab": {
          "base_uri": "https://localhost:8080/"
        },
        "id": "_UaxewpA16m8",
        "outputId": "2ff8e41e-3095-4969-fe9b-4e64b62ad5d5"
      },
      "execution_count": null,
      "outputs": [
        {
          "output_type": "stream",
          "name": "stdout",
          "text": [
            "set before clearing the items {1, 2, 3, 4, 5}\n",
            "set after clearing the items set()\n"
          ]
        }
      ]
    },
    {
      "cell_type": "code",
      "source": [
        "#18.Write a code to remove the element 4 from the set {1, 2, 3, 4}\n",
        "s={1, 2, 3, 4}\n",
        "print(f\"original set {s}\")\n",
        "s.remove(4)\n",
        "print(f\"set after removing item 4 is {s}\")\n"
      ],
      "metadata": {
        "colab": {
          "base_uri": "https://localhost:8080/"
        },
        "id": "ldc9pEeo2YXR",
        "outputId": "e9eba8d5-23b2-4b23-a30f-5fffd48b8eb5"
      },
      "execution_count": null,
      "outputs": [
        {
          "output_type": "stream",
          "name": "stdout",
          "text": [
            "original set {1, 2, 3, 4}\n",
            "set after removing item 4 is {1, 2, 3}\n"
          ]
        }
      ]
    },
    {
      "cell_type": "code",
      "source": [
        "#19.Write a code to find the union of two sets {1, 2, 3} and {3, 4, 5}\n",
        "s1={1, 2, 3}\n",
        "s2={3, 4, 5}\n",
        "print(f\"union of{s1} and {s2} is {s1|s2}\")\n",
        "\n",
        "#other way\n",
        "#s3=s1.union(s2)\n",
        "#print(s3)\n",
        "\n"
      ],
      "metadata": {
        "colab": {
          "base_uri": "https://localhost:8080/"
        },
        "id": "EqhxEJJs2yT5",
        "outputId": "423764bc-25f9-4f9e-f24c-220c7e4fa559"
      },
      "execution_count": null,
      "outputs": [
        {
          "output_type": "stream",
          "name": "stdout",
          "text": [
            "union of{1, 2, 3} and {3, 4, 5} is {1, 2, 3, 4, 5}\n"
          ]
        }
      ]
    },
    {
      "cell_type": "code",
      "source": [
        "#20.Write a code to find the intersection of two sets {1, 2, 3} and {2, 3, 4}.\n",
        "s1={1, 2, 3}\n",
        "s2={3, 4, 5}\n",
        "print(f\"intersection of{s1} and {s2} is {s1&s2}\")\n"
      ],
      "metadata": {
        "colab": {
          "base_uri": "https://localhost:8080/"
        },
        "id": "KFAp2jLU4Ag-",
        "outputId": "86de93d0-5d66-4f7a-dd96-633058a8b46d"
      },
      "execution_count": null,
      "outputs": [
        {
          "output_type": "stream",
          "name": "stdout",
          "text": [
            "intersection of{1, 2, 3} and {3, 4, 5} is {3}\n"
          ]
        }
      ]
    },
    {
      "cell_type": "code",
      "source": [
        "#21. Write a code to create a dictionary with the keys \"name\", \"age\", and \"city\", and print it\n",
        "d={\"name\":\"devi\",\"age\":26,\"city\":\"Hyderabad\"}\n",
        "print(d)"
      ],
      "metadata": {
        "colab": {
          "base_uri": "https://localhost:8080/"
        },
        "id": "u4k5d1HSAA0X",
        "outputId": "72194d77-6806-4af2-dd0f-b94bc32603e4"
      },
      "execution_count": null,
      "outputs": [
        {
          "output_type": "stream",
          "name": "stdout",
          "text": [
            "{'name': 'devi', 'age': 26, 'city': 'Hyderabad'}\n"
          ]
        }
      ]
    },
    {
      "cell_type": "code",
      "source": [
        "#22. Write a code to add a new key-value pair \"country\": \"USA\" to the dictionary {'name': 'John', 'age': 25}\n",
        "d={'name': 'John', 'age': 25}\n",
        "d[\"country\"]=\"USA\"\n",
        "print(d)"
      ],
      "metadata": {
        "colab": {
          "base_uri": "https://localhost:8080/"
        },
        "id": "D-6JwgpkAUHf",
        "outputId": "8e1e3bc4-ee16-45e2-f76c-02ac5dd1ef17"
      },
      "execution_count": null,
      "outputs": [
        {
          "output_type": "stream",
          "name": "stdout",
          "text": [
            "{'name': 'John', 'age': 25, 'country': 'USA'}\n"
          ]
        }
      ]
    },
    {
      "cell_type": "code",
      "source": [
        "#23.Write a code to access the value associated with the key \"name\" in the dictionary {'name': 'Alice', 'age': 30}\n",
        "d={'name': 'Alice', 'age': 30}\n",
        "print(f\"the value of name is {d['name']}\")"
      ],
      "metadata": {
        "colab": {
          "base_uri": "https://localhost:8080/"
        },
        "id": "w4eduqZTAr_E",
        "outputId": "4616bbdd-796b-46e2-fb91-8a1626c1a5d4"
      },
      "execution_count": null,
      "outputs": [
        {
          "output_type": "stream",
          "name": "stdout",
          "text": [
            "the value of name is Alice\n"
          ]
        }
      ]
    },
    {
      "cell_type": "code",
      "source": [
        "#24.Write a code to remove the key \"age\" from the dictionary {'name': 'Bob', 'age': 22, 'city': 'New York'}.\n",
        "d={'name': 'Bob', 'age': 22, 'city': 'New York'}\n",
        "d.pop(\"age\")\n",
        "print(d)"
      ],
      "metadata": {
        "colab": {
          "base_uri": "https://localhost:8080/"
        },
        "id": "VUWyI-HVBMwT",
        "outputId": "56ba2f7d-a909-41c4-c53c-44498cb199fa"
      },
      "execution_count": null,
      "outputs": [
        {
          "output_type": "stream",
          "name": "stdout",
          "text": [
            "{'name': 'Bob', 'city': 'New York'}\n"
          ]
        }
      ]
    },
    {
      "cell_type": "code",
      "source": [
        "#25.Write a code to check if the key \"city\" exists in the dictionary {'name': 'Alice', 'city': 'Paris'}\n",
        "d={'name': 'Alice', 'city': 'Paris'}\n",
        "print(d.keys())\n",
        "if 'city' in d.keys():\n",
        "  print(\"present\")\n",
        "else:\n",
        "  print(\"not present\")"
      ],
      "metadata": {
        "colab": {
          "base_uri": "https://localhost:8080/"
        },
        "id": "8cbyFpNMCG9N",
        "outputId": "8ded49df-55f5-4e77-a2c8-982b34f0b243"
      },
      "execution_count": null,
      "outputs": [
        {
          "output_type": "stream",
          "name": "stdout",
          "text": [
            "dict_keys(['name', 'city'])\n",
            "present\n"
          ]
        }
      ]
    },
    {
      "cell_type": "code",
      "source": [
        "#26.Write a code to create a list, a tuple, and a dictionary, and print them all\n",
        "l=[1,2,3,4]\n",
        "t=(11,12,34)\n",
        "s={25,67,88}\n",
        "d={\"name\":\"devi\",\"age\":26}\n",
        "print(f\"list is {l}\")\n",
        "print(f\"tuple is {t}\")\n",
        "print(f\"set is {s}\")\n",
        "print(f\"dictionary is {d}\")"
      ],
      "metadata": {
        "colab": {
          "base_uri": "https://localhost:8080/"
        },
        "id": "KforwFV4CmoU",
        "outputId": "38ada9cc-3e01-4867-b12a-22c6385b78b6"
      },
      "execution_count": null,
      "outputs": [
        {
          "output_type": "stream",
          "name": "stdout",
          "text": [
            "list is [1, 2, 3, 4]\n",
            "tuple is (11, 12, 34)\n",
            "set is {88, 25, 67}\n",
            "dictionary is {'name': 'devi', 'age': 26}\n"
          ]
        }
      ]
    },
    {
      "cell_type": "code",
      "source": [
        "'''27.Write a code to create a list of 5 random numbers between 1 and 100, sort it in ascending order, and print the\n",
        "result.(replaced)'''\n",
        "import random\n",
        "l=[random.randint(1,100)  for _ in range(5)]\n",
        "print(f\"list before sorting {l}\")\n",
        "l.sort()\n",
        "print(f\"list after sorting in ascending order {l}\")\n"
      ],
      "metadata": {
        "colab": {
          "base_uri": "https://localhost:8080/"
        },
        "id": "Zdku5NgfDgGp",
        "outputId": "c17dcc5f-c59d-4610-fc87-199fe8489f9e"
      },
      "execution_count": null,
      "outputs": [
        {
          "output_type": "stream",
          "name": "stdout",
          "text": [
            "list before sorting [95, 43, 79, 58, 32]\n",
            "list after sorting in ascending order [32, 43, 58, 79, 95]\n"
          ]
        }
      ]
    },
    {
      "cell_type": "code",
      "source": [
        "#28.Write a code to create a list with strings and print the element at the third index\n",
        "l=[\"apple\",\"banana\",\"grapes\",\"orange\"]\n",
        "print(l[2])"
      ],
      "metadata": {
        "colab": {
          "base_uri": "https://localhost:8080/"
        },
        "id": "J1R5gOyxFeKv",
        "outputId": "3d4adcfa-6070-41e1-8be3-b602e0c0b6c4"
      },
      "execution_count": null,
      "outputs": [
        {
          "output_type": "stream",
          "name": "stdout",
          "text": [
            "grapes\n"
          ]
        }
      ]
    },
    {
      "cell_type": "code",
      "source": [
        "#29.Write a code to combine two dictionaries into one and print the result.\n",
        "d1={\"name\":\"anu\",\"age\":25,\"city\":\"hyd\"}\n",
        "d2={\"fruit\":\"apple\",\"animal\":\"lion\"}\n",
        "d1.update(d2)\n",
        "print(d1)"
      ],
      "metadata": {
        "colab": {
          "base_uri": "https://localhost:8080/"
        },
        "id": "76KeWcM2Fs93",
        "outputId": "615c01f2-1c40-499f-d4c5-4d0733ea56ca"
      },
      "execution_count": null,
      "outputs": [
        {
          "output_type": "stream",
          "name": "stdout",
          "text": [
            "{'name': 'anu', 'age': 25, 'city': 'hyd', 'fruit': 'apple', 'animal': 'lion'}\n"
          ]
        }
      ]
    },
    {
      "cell_type": "code",
      "source": [
        "#30.Write a code to convert a list of strings into a set\n",
        "l=[\"a\",\"b\",\"c\",\"a\",\"d\"]\n",
        "s=set(l)\n",
        "print(f\"list is {l}\")\n",
        "print(f\"set is {s}\")"
      ],
      "metadata": {
        "colab": {
          "base_uri": "https://localhost:8080/"
        },
        "id": "heCCh_L8FwYL",
        "outputId": "903d6d4c-637c-4c60-bb05-8e939b39893e"
      },
      "execution_count": null,
      "outputs": [
        {
          "output_type": "stream",
          "name": "stdout",
          "text": [
            "list is ['a', 'b', 'c', 'a', 'd']\n",
            "set is {'b', 'a', 'c', 'd'}\n"
          ]
        }
      ]
    }
  ]
}